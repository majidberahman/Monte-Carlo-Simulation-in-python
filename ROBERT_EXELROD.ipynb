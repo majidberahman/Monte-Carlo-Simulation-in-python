{
  "nbformat": 4,
  "nbformat_minor": 0,
  "metadata": {
    "colab": {
      "provenance": [],
      "authorship_tag": "ABX9TyPBrghoOaDR/KdhUcN81C5a",
      "include_colab_link": true
    },
    "kernelspec": {
      "name": "python3",
      "display_name": "Python 3"
    },
    "language_info": {
      "name": "python"
    }
  },
  "cells": [
    {
      "cell_type": "markdown",
      "metadata": {
        "id": "view-in-github",
        "colab_type": "text"
      },
      "source": [
        "<a href=\"https://colab.research.google.com/github/majidberahman/Monte-Carlo-Simulation-in-python/blob/main/ROBERT_EXELROD.ipynb\" target=\"_parent\"><img src=\"https://colab.research.google.com/assets/colab-badge.svg\" alt=\"Open In Colab\"/></a>"
      ]
    },
    {
      "cell_type": "code",
      "source": [
        "import random  # وارد کردن کتابخانه random برای استفاده از تصادف در انتخاب حرکات\n",
        "\n",
        "# تعریف استراتژی TIT FOR TAT\n",
        "def tit_for_tat(opponent_last_move):\n",
        "    \"\"\"\n",
        "    استراتژی TIT FOR TAT:\n",
        "    - در دور اول همکاری می‌کند (None) و سپس حرکتی مشابه حرکتی که حریف در دور قبل انجام داده است اتخاذ می‌کند.\n",
        "    - این استراتژی به عنوان یک استراتژی همکاری شروع می‌شود و سپس به رفتار حریف پاسخ می‌دهد.\n",
        "    \"\"\"\n",
        "    return 'C' if opponent_last_move is None else opponent_last_move  # بازگشت 'C' یا حرکتی که حریف در دور قبل انجام داده است\n",
        "\n",
        "# تعریف استراتژی تصادفی\n",
        "def random_strategy():\n",
        "    \"\"\"\n",
        "    استراتژی تصادفی:\n",
        "    - با احتمال 50 درصد انتخاب می‌کند که همکاری (C) یا خیانت (D) کند.\n",
        "    \"\"\"\n",
        "    return random.choice(['C', 'D'])  # انتخاب تصادفی بین 'C' و 'D'\n",
        "\n",
        "# تابع شبیه‌سازی معضل زندانی\n",
        "def prisoners_dilemma(player1_strategy, player2_strategy, rounds=1000):\n",
        "    \"\"\"\n",
        "    شبیه‌سازی معضل زندانی:\n",
        "    - دو بازیکن با استراتژی‌های متفاوت به رقابت می‌پردازند.\n",
        "    - در هر دور، حرکات بازیکنان ثبت می‌شود و امتیازها محاسبه می‌شود.\n",
        "\n",
        "    پارامترها:\n",
        "    - player1_strategy: استراتژی بازیکن اول\n",
        "    - player2_strategy: استراتژی بازیکن دوم\n",
        "    - rounds: تعداد دورهای بازی (پیش‌فرض 10)\n",
        "    \"\"\"\n",
        "\n",
        "    player1_score = 0  # امتیاز بازیکن 1\n",
        "    player2_score = 0  # امتیاز بازیکن 2\n",
        "    player1_last_move = None  # آخرین حرکت بازیکن 1\n",
        "    player2_last_move = None  # آخرین حرکت بازیکن 2\n",
        "\n",
        "    for _ in range(rounds):  # حلقه برای اجرای دورها\n",
        "        player1_move = player1_strategy(player2_last_move)  # حرکات بازیکن 1\n",
        "        player2_move = player2_strategy()  # حرکات بازیکن 2\n",
        "\n",
        "        # محاسبه امتیازها بر اساس حرکات\n",
        "        if player1_move == 'C' and player2_move == 'C':\n",
        "            player1_score += 3  # هر دو همکاری کنند\n",
        "            player2_score += 3\n",
        "        elif player1_move == 'C' and player2_move == 'D':\n",
        "            player1_score += 0  # بازیکن 1 همکاری و بازیکن 2 خیانت\n",
        "            player2_score += 5\n",
        "        elif player1_move == 'D' and player2_move == 'C':\n",
        "            player1_score += 5  # بازیکن 1 خیانت و بازیکن 2 همکاری\n",
        "            player2_score += 0\n",
        "        else:  # هر دو خیانت\n",
        "            player1_score += 1\n",
        "            player2_score += 1\n",
        "\n",
        "        # بروزرسانی حرکات قبلی\n",
        "        player1_last_move = player1_move  # ذخیره حرکت بازیکن 1\n",
        "        player2_last_move = player2_move  # ذخیره حرکت بازیکن 2\n",
        "\n",
        "    return player1_score, player2_score  # بازگشت امتیازها\n",
        "\n",
        "# اجرای شبیه‌سازی\n",
        "player1_score, player2_score = prisoners_dilemma(tit_for_tat, random_strategy, rounds=10)\n",
        "\n",
        "# نمایش امتیازها\n",
        "print(f\"Player 1 (TIT FOR TAT) Score: {player1_score}\")  # نمایش امتیاز بازیکن 1\n",
        "print(f\"Player 2 (Random Strategy) Score: {player2_score}\")  # نمایش امتیاز بازیکن 2\n"
      ],
      "metadata": {
        "colab": {
          "base_uri": "https://localhost:8080/"
        },
        "id": "oS6lYc-NXzWR",
        "outputId": "d5a7924a-6285-4172-ed3b-960d14095e8c"
      },
      "execution_count": 19,
      "outputs": [
        {
          "output_type": "stream",
          "name": "stdout",
          "text": [
            "Player 1 (TIT FOR TAT) Score: 17\n",
            "Player 2 (Random Strategy) Score: 22\n"
          ]
        }
      ]
    }
  ]
}